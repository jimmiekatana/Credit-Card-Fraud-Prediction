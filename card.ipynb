{
  "nbformat": 4,
  "nbformat_minor": 0,
  "metadata": {
    "colab": {
      "provenance": [],
      "authorship_tag": "ABX9TyMOI83FuqJ4Zw9DRstuumOO",
      "include_colab_link": true
    },
    "kernelspec": {
      "name": "python3",
      "display_name": "Python 3"
    },
    "language_info": {
      "name": "python"
    }
  },
  "cells": [
    {
      "cell_type": "markdown",
      "metadata": {
        "id": "view-in-github",
        "colab_type": "text"
      },
      "source": [
        "<a href=\"https://colab.research.google.com/github/jimmiekatana/Credit-Card-Fraud-Prediction/blob/main/card.ipynb\" target=\"_parent\"><img src=\"https://colab.research.google.com/assets/colab-badge.svg\" alt=\"Open In Colab\"/></a>"
      ]
    },
    {
      "cell_type": "markdown",
      "source": [
        "\n",
        "\n",
        "```\n",
        "# This is formatted as code\n",
        "```\n",
        "\n",
        "# Credit_Card_Fraud_Detection"
      ],
      "metadata": {
        "id": "BRmP7Wg-9rnd"
      }
    },
    {
      "cell_type": "markdown",
      "source": [
        "# **1.0 About the Author**\n",
        "\n",
        "  Author : Jimmy Katana\n",
        "\n",
        "  Project :Credit Card Fraud Detection"
      ],
      "metadata": {
        "id": "Ferfk3_DtezR"
      }
    },
    {
      "cell_type": "markdown",
      "source": [
        "# 2.0 About the data\n",
        "\n",
        " Title: Credit Card Fraud Detection\n",
        "\n",
        " Dataset: https://www.kaggle.com/datasets/mlg-ulb/creditcardfraud"
      ],
      "metadata": {
        "id": "Jf3rpK7guNJc"
      }
    },
    {
      "cell_type": "markdown",
      "source": [
        "# **3.0 Data Preparation:**\n",
        "## **3.1 Import Libraries**\n",
        "Let's start the project by impoprting all the libraries that we will need in this project."
      ],
      "metadata": {
        "id": "xs4fFxYUuxuH"
      }
    },
    {
      "cell_type": "code",
      "source": [
        "#importing  libraries\n",
        "# Data handling libraries\n",
        "import pandas as pd\n",
        "import numpy as np\n",
        "\n",
        "# data visualization libraries\n",
        "import matplotlib.pyplot as plt\n",
        "import seaborn as sns\n",
        "import plotly.express as px\n",
        "\n",
        "#To preprocess the data\n",
        "from sklearn.preprocessing import StandardScaler,LabelEncoder,MinMaxScaler\n",
        "\n",
        "# machine learning\n",
        "from sklearn.model_selection import train_test_split, GridSearchCV, cross_val_score\n",
        "#for classification tasks\n",
        "from sklearn.linear_model import LogisticRegression\n",
        "from sklearn.neighbors import KNeighborsClassifier\n",
        "from sklearn.svm import SVC\n",
        "from sklearn.tree import DecisionTreeClassifier\n",
        "from sklearn.ensemble import RandomForestClassifier, AdaBoostClassifier, GradientBoostingClassifier, RandomForestRegressor\n",
        "from xgboost import XGBClassifier\n",
        "#metrics\n",
        "from sklearn.metrics import accuracy_score, f1_score, precision_score, recall_score\n",
        "\n",
        "# ignore warnings\n",
        "import warnings\n",
        "warnings.filterwarnings('ignore')"
      ],
      "metadata": {
        "id": "jRnzz1rL9-Xi"
      },
      "execution_count": 1,
      "outputs": []
    }
  ]
}