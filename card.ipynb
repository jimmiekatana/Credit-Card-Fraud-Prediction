{
  "nbformat": 4,
  "nbformat_minor": 0,
  "metadata": {
    "colab": {
      "provenance": [],
      "authorship_tag": "ABX9TyNQ01DR7RKXEnVUduf0v0QP",
      "include_colab_link": true
    },
    "kernelspec": {
      "name": "python3",
      "display_name": "Python 3"
    },
    "language_info": {
      "name": "python"
    }
  },
  "cells": [
    {
      "cell_type": "markdown",
      "metadata": {
        "id": "view-in-github",
        "colab_type": "text"
      },
      "source": [
        "<a href=\"https://colab.research.google.com/github/jimmiekatana/Credit-Card-Fraud-Prediction/blob/main/card.ipynb\" target=\"_parent\"><img src=\"https://colab.research.google.com/assets/colab-badge.svg\" alt=\"Open In Colab\"/></a>"
      ]
    },
    {
      "cell_type": "markdown",
      "source": [
        "Credit_Card_Fraud_Detection"
      ],
      "metadata": {
        "id": "BRmP7Wg-9rnd"
      }
    },
    {
      "cell_type": "code",
      "source": [
        "#importing  libraries\n",
        "# Data handling libraries\n",
        "import pandas as pd\n",
        "import numpy as np\n",
        "\n",
        "# data visualization libraries\n",
        "import matplotlib.pyplot as plt\n",
        "import seaborn as sns\n",
        "import plotly.express as px\n",
        "\n",
        "#To preprocess the data\n",
        "from sklearn.preprocessing import StandardScaler,LabelEncoder,MinMaxScaler"
      ],
      "metadata": {
        "id": "jRnzz1rL9-Xi"
      },
      "execution_count": 4,
      "outputs": []
    }
  ]
}